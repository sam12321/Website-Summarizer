{
 "cells": [
  {
   "cell_type": "code",
   "execution_count": 7,
   "id": "450ebf74-6180-4bae-8f45-c69881ad6914",
   "metadata": {},
   "outputs": [],
   "source": [
    "import os\n",
    "from openai import OpenAI\n",
    "from dotenv import load_dotenv\n",
    "from bs4 import BeautifulSoup\n",
    "import requests"
   ]
  },
  {
   "cell_type": "code",
   "execution_count": 8,
   "id": "79844513-49e4-4065-92e7-f8c575185577",
   "metadata": {},
   "outputs": [],
   "source": [
    "load_dotenv(override = True)\n",
    "api_key = os.getenv(\"OPENAI_API_KEY\")\n",
    "#print(api_key)"
   ]
  },
  {
   "cell_type": "markdown",
   "id": "6561c145-7ee3-4d02-95a4-c9eaa79b06d0",
   "metadata": {},
   "source": [
    "## ChatGPT API Call Glimpse"
   ]
  },
  {
   "cell_type": "code",
   "execution_count": 10,
   "id": "fb032652-0d9c-4d3e-8aca-c9f2a13261bb",
   "metadata": {},
   "outputs": [],
   "source": [
    "client = OpenAI(api_key = api_key)\n",
    "message = \"Hey ChatGPT, this is my Practice API call to you, please respond with a delightfull quote about life\"\n",
    "response = client.chat.completions.create(model=\"gpt-4o-mini\", messages=[{\"role\":\"user\", \"content\":message}])"
   ]
  },
  {
   "cell_type": "code",
   "execution_count": 47,
   "id": "ba8ccf78-299c-45f9-a0ad-3819a66fe710",
   "metadata": {},
   "outputs": [
    {
     "name": "stdout",
     "output_type": "stream",
     "text": [
      "\"Life isn't about finding yourself; it's about creating yourself.\" – George Bernard Shaw\n"
     ]
    }
   ],
   "source": [
    "print((response.choices[0].message.content).replace('\\\\',''))"
   ]
  },
  {
   "cell_type": "code",
   "execution_count": 11,
   "id": "94e8c02f-0b54-45f0-b065-8d8f9cfb2508",
   "metadata": {},
   "outputs": [],
   "source": [
    "messages = [{\"role\": \"system\", \"content\":\"you are a snarky assistant\"},\n",
    "            {\"role\": \"user\", \"content\": \"what is the secret of your energy?\"}]"
   ]
  },
  {
   "cell_type": "code",
   "execution_count": 12,
   "id": "8cf93673-9f7e-4116-a29a-4becae087438",
   "metadata": {},
   "outputs": [],
   "source": [
    "response2 = client.chat.completions.create(model=\"gpt-4o-mini\", messages=messages)"
   ]
  },
  {
   "cell_type": "code",
   "execution_count": 16,
   "id": "a6e8c4aa-098c-498e-b96c-cc47b290e95e",
   "metadata": {},
   "outputs": [
    {
     "name": "stdout",
     "output_type": "stream",
     "text": [
      "Ah, the secret of my energy? It’s a little thing called infinite bytes and caffeine-fueled algorithms. Just kidding! I run on data and your delightful questions, so keep 'em coming!\n"
     ]
    }
   ],
   "source": [
    "print(response2.choices[0].message.content)"
   ]
  },
  {
   "cell_type": "code",
   "execution_count": 56,
   "id": "12c895f6-dc6e-43b8-99a3-06648570158f",
   "metadata": {},
   "outputs": [
    {
     "data": {
      "text/plain": [
       "'Home - Edward Donner'"
      ]
     },
     "execution_count": 56,
     "metadata": {},
     "output_type": "execute_result"
    }
   ],
   "source": [
    "url = \"https://edwarddonner.com\"\n",
    "reply = requests.get(\"https://edwarddonner.com\")\n",
    "data = BeautifulSoup(reply.content,'html.parser')\n",
    "#data.body.get_text(separator = \"\\n\", strip=True)\n",
    "data.title.string"
   ]
  },
  {
   "cell_type": "code",
   "execution_count": 59,
   "id": "b3808f1c-0cc6-415e-a159-32f246c6033f",
   "metadata": {},
   "outputs": [],
   "source": [
    "# Class to extract the information out of url and return it in an extract Class Object\n",
    "class Extract:\n",
    "    def __init__ (self,url):\n",
    "        self.url = url\n",
    "        reply = requests.get(url)\n",
    "        data = BeautifulSoup(reply.content, 'html.parser')\n",
    "        self.title = data.title.text if data.title else \"Title Not Found\"\n",
    "        self.content = data.body.get_text(separator=\"\\n\", strip=True)"
   ]
  },
  {
   "cell_type": "code",
   "execution_count": 63,
   "id": "476d914b-3d1e-495f-9dab-0ded11b27096",
   "metadata": {},
   "outputs": [
    {
     "name": "stdout",
     "output_type": "stream",
     "text": [
      "Home - Edward Donner\n",
      "Home\n",
      "Connect Four\n",
      "Outsmart\n",
      "An arena that pits LLMs against each other in a battle of diplomacy and deviousness\n",
      "About\n",
      "Posts\n",
      "Well, hi there.\n",
      "I’m Ed. I like writing code and experimenting with LLMs, and hopefully you’re here because you do too. I also enjoy DJing (but I’m badly out of practice), amateur electronic music production (\n",
      "very\n",
      "amateur) and losing myself in\n",
      "Hacker News\n",
      ", nodding my head sagely to things I only half understand.\n",
      "I’m the co-founder and CTO of\n",
      "Nebula.io\n",
      ". We’re applying AI to a field where it can make a massive, positive impact: helping people discover their potential and pursue their reason for being. Recruiters use our product today to source, understand, engage and manage talent. I’m previously the founder and CEO of AI startup untapt,\n",
      "acquired in 2021\n",
      ".\n",
      "We work with groundbreaking, proprietary LLMs verticalized for talent, we’ve\n",
      "patented\n",
      "our matching model, and our award-winning platform has happy customers and tons of press coverage.\n",
      "Connect\n",
      "with me for more!\n",
      "May 28, 2025\n",
      "Connecting my courses – become an LLM expert and leader\n",
      "May 18, 2025\n",
      "2025 AI Executive Briefing\n",
      "April 21, 2025\n",
      "The Complete Agentic AI Engineering Course\n",
      "January 23, 2025\n",
      "LLM Workshop – Hands-on with Agents – resources\n",
      "Navigation\n",
      "Home\n",
      "Connect Four\n",
      "Outsmart\n",
      "An arena that pits LLMs against each other in a battle of diplomacy and deviousness\n",
      "About\n",
      "Posts\n",
      "Get in touch\n",
      "ed [at] edwarddonner [dot] com\n",
      "www.edwarddonner.com\n",
      "Follow me\n",
      "LinkedIn\n",
      "Twitter\n",
      "Facebook\n",
      "Subscribe to newsletter\n",
      "Type your email…\n",
      "Subscribe\n"
     ]
    }
   ],
   "source": [
    "ext_data = Extract(url)\n",
    "print(ext_data.title)\n",
    "print(ext_data.content)"
   ]
  },
  {
   "cell_type": "code",
   "execution_count": 64,
   "id": "85b8ed13-4d87-4f11-b331-71b88bfc63af",
   "metadata": {},
   "outputs": [],
   "source": [
    "system_prompt = \"You are an AI assistant that analyzes the contents of a website and summarizes it in detail \\\n",
    "        , ignoring the text that might be navigation related\"\n",
    "def make_prompt(website_data):\n",
    "    prompt = f\"This is the data for website titled -{website_data.title} \\n \\\n",
    "        The contents of this website are as follows, please summarize the contents in markdown\\n \\\n",
    "        Contents:- \\n website_data.content\"\n",
    "    return prompt"
   ]
  },
  {
   "cell_type": "code",
   "execution_count": null,
   "id": "80d43610-6005-4225-8f85-8b8a5b7f9534",
   "metadata": {},
   "outputs": [],
   "source": [
    "\n",
    "    "
   ]
  }
 ],
 "metadata": {
  "kernelspec": {
   "display_name": "Python 3 (ipykernel)",
   "language": "python",
   "name": "python3"
  },
  "language_info": {
   "codemirror_mode": {
    "name": "ipython",
    "version": 3
   },
   "file_extension": ".py",
   "mimetype": "text/x-python",
   "name": "python",
   "nbconvert_exporter": "python",
   "pygments_lexer": "ipython3",
   "version": "3.11.13"
  }
 },
 "nbformat": 4,
 "nbformat_minor": 5
}
